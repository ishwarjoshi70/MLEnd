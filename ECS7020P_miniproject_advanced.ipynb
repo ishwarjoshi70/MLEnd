{
  "cells": [
    {
      "cell_type": "markdown",
      "metadata": {
        "id": "91MsGMTna_P9"
      },
      "source": [
        "# ECS7020P mini-project submission - Advanced Componenet\n"
      ]
    },
    {
      "cell_type": "markdown",
      "metadata": {
        "id": "ZaGn4ICrfqXZ"
      },
      "source": [
        "# 1 Author\n",
        "\n",
        "**Student Name**:  Ishwar Joshi \\\n",
        "**Student ID**:  230194814\n",
        "\n"
      ]
    },
    {
      "cell_type": "code",
      "execution_count": 1,
      "metadata": {
        "colab": {
          "base_uri": "https://localhost:8080/"
        },
        "id": "GBB-96lUPW-V",
        "outputId": "820c790e-03e6-4d29-91d2-5e02e6057d4f"
      },
      "outputs": [
        {
          "output_type": "stream",
          "name": "stdout",
          "text": [
            "Collecting mlend\n",
            "  Downloading mlend-1.0.0.3-py3-none-any.whl (10 kB)\n",
            "Requirement already satisfied: numpy>1.8 in /usr/local/lib/python3.10/dist-packages (from mlend) (1.23.5)\n",
            "Requirement already satisfied: pandas in /usr/local/lib/python3.10/dist-packages (from mlend) (1.5.3)\n",
            "Requirement already satisfied: scipy in /usr/local/lib/python3.10/dist-packages (from mlend) (1.11.4)\n",
            "Requirement already satisfied: matplotlib in /usr/local/lib/python3.10/dist-packages (from mlend) (3.7.1)\n",
            "Requirement already satisfied: joblib in /usr/local/lib/python3.10/dist-packages (from mlend) (1.3.2)\n",
            "Collecting spkit>0.0.9.5 (from mlend)\n",
            "  Downloading spkit-0.0.9.6.7-py3-none-any.whl (1.6 MB)\n",
            "\u001b[2K     \u001b[90m━━━━━━━━━━━━━━━━━━━━━━━━━━━━━━━━━━━━━━━━\u001b[0m \u001b[32m1.6/1.6 MB\u001b[0m \u001b[31m16.4 MB/s\u001b[0m eta \u001b[36m0:00:00\u001b[0m\n",
            "\u001b[?25hRequirement already satisfied: scikit-learn in /usr/local/lib/python3.10/dist-packages (from spkit>0.0.9.5->mlend) (1.2.2)\n",
            "Collecting python-picard (from spkit>0.0.9.5->mlend)\n",
            "  Downloading python_picard-0.7-py3-none-any.whl (16 kB)\n",
            "Requirement already satisfied: PyWavelets in /usr/local/lib/python3.10/dist-packages (from spkit>0.0.9.5->mlend) (1.5.0)\n",
            "Collecting pylfsr (from spkit>0.0.9.5->mlend)\n",
            "  Downloading pylfsr-1.0.7-py3-none-any.whl (28 kB)\n",
            "Requirement already satisfied: h5py in /usr/local/lib/python3.10/dist-packages (from spkit>0.0.9.5->mlend) (3.9.0)\n",
            "Requirement already satisfied: seaborn in /usr/local/lib/python3.10/dist-packages (from spkit>0.0.9.5->mlend) (0.12.2)\n",
            "Collecting phyaat (from spkit>0.0.9.5->mlend)\n",
            "  Downloading phyaat-0.0.3-py3-none-any.whl (27 kB)\n",
            "Requirement already satisfied: contourpy>=1.0.1 in /usr/local/lib/python3.10/dist-packages (from matplotlib->mlend) (1.2.0)\n",
            "Requirement already satisfied: cycler>=0.10 in /usr/local/lib/python3.10/dist-packages (from matplotlib->mlend) (0.12.1)\n",
            "Requirement already satisfied: fonttools>=4.22.0 in /usr/local/lib/python3.10/dist-packages (from matplotlib->mlend) (4.45.1)\n",
            "Requirement already satisfied: kiwisolver>=1.0.1 in /usr/local/lib/python3.10/dist-packages (from matplotlib->mlend) (1.4.5)\n",
            "Requirement already satisfied: packaging>=20.0 in /usr/local/lib/python3.10/dist-packages (from matplotlib->mlend) (23.2)\n",
            "Requirement already satisfied: pillow>=6.2.0 in /usr/local/lib/python3.10/dist-packages (from matplotlib->mlend) (9.4.0)\n",
            "Requirement already satisfied: pyparsing>=2.3.1 in /usr/local/lib/python3.10/dist-packages (from matplotlib->mlend) (3.1.1)\n",
            "Requirement already satisfied: python-dateutil>=2.7 in /usr/local/lib/python3.10/dist-packages (from matplotlib->mlend) (2.8.2)\n",
            "Requirement already satisfied: pytz>=2020.1 in /usr/local/lib/python3.10/dist-packages (from pandas->mlend) (2023.3.post1)\n",
            "Requirement already satisfied: six>=1.5 in /usr/local/lib/python3.10/dist-packages (from python-dateutil>=2.7->matplotlib->mlend) (1.16.0)\n",
            "Requirement already satisfied: numexpr in /usr/local/lib/python3.10/dist-packages (from python-picard->spkit>0.0.9.5->mlend) (2.8.7)\n",
            "Requirement already satisfied: threadpoolctl>=2.0.0 in /usr/local/lib/python3.10/dist-packages (from scikit-learn->spkit>0.0.9.5->mlend) (3.2.0)\n",
            "Installing collected packages: python-picard, pylfsr, phyaat, spkit, mlend\n",
            "Successfully installed mlend-1.0.0.3 phyaat-0.0.3 pylfsr-1.0.7 python-picard-0.7 spkit-0.0.9.6.7\n",
            "Requirement already satisfied: spkit in /usr/local/lib/python3.10/dist-packages (0.0.9.6.7)\n",
            "Requirement already satisfied: numpy>1.8 in /usr/local/lib/python3.10/dist-packages (from spkit) (1.23.5)\n",
            "Requirement already satisfied: pandas in /usr/local/lib/python3.10/dist-packages (from spkit) (1.5.3)\n",
            "Requirement already satisfied: scipy in /usr/local/lib/python3.10/dist-packages (from spkit) (1.11.4)\n",
            "Requirement already satisfied: scikit-learn in /usr/local/lib/python3.10/dist-packages (from spkit) (1.2.2)\n",
            "Requirement already satisfied: python-picard in /usr/local/lib/python3.10/dist-packages (from spkit) (0.7)\n",
            "Requirement already satisfied: matplotlib in /usr/local/lib/python3.10/dist-packages (from spkit) (3.7.1)\n",
            "Requirement already satisfied: PyWavelets in /usr/local/lib/python3.10/dist-packages (from spkit) (1.5.0)\n",
            "Requirement already satisfied: pylfsr in /usr/local/lib/python3.10/dist-packages (from spkit) (1.0.7)\n",
            "Requirement already satisfied: h5py in /usr/local/lib/python3.10/dist-packages (from spkit) (3.9.0)\n",
            "Requirement already satisfied: seaborn in /usr/local/lib/python3.10/dist-packages (from spkit) (0.12.2)\n",
            "Requirement already satisfied: joblib in /usr/local/lib/python3.10/dist-packages (from spkit) (1.3.2)\n",
            "Requirement already satisfied: phyaat in /usr/local/lib/python3.10/dist-packages (from spkit) (0.0.3)\n",
            "Requirement already satisfied: contourpy>=1.0.1 in /usr/local/lib/python3.10/dist-packages (from matplotlib->spkit) (1.2.0)\n",
            "Requirement already satisfied: cycler>=0.10 in /usr/local/lib/python3.10/dist-packages (from matplotlib->spkit) (0.12.1)\n",
            "Requirement already satisfied: fonttools>=4.22.0 in /usr/local/lib/python3.10/dist-packages (from matplotlib->spkit) (4.45.1)\n",
            "Requirement already satisfied: kiwisolver>=1.0.1 in /usr/local/lib/python3.10/dist-packages (from matplotlib->spkit) (1.4.5)\n",
            "Requirement already satisfied: packaging>=20.0 in /usr/local/lib/python3.10/dist-packages (from matplotlib->spkit) (23.2)\n",
            "Requirement already satisfied: pillow>=6.2.0 in /usr/local/lib/python3.10/dist-packages (from matplotlib->spkit) (9.4.0)\n",
            "Requirement already satisfied: pyparsing>=2.3.1 in /usr/local/lib/python3.10/dist-packages (from matplotlib->spkit) (3.1.1)\n",
            "Requirement already satisfied: python-dateutil>=2.7 in /usr/local/lib/python3.10/dist-packages (from matplotlib->spkit) (2.8.2)\n",
            "Requirement already satisfied: pytz>=2020.1 in /usr/local/lib/python3.10/dist-packages (from pandas->spkit) (2023.3.post1)\n",
            "Requirement already satisfied: numexpr in /usr/local/lib/python3.10/dist-packages (from python-picard->spkit) (2.8.7)\n",
            "Requirement already satisfied: threadpoolctl>=2.0.0 in /usr/local/lib/python3.10/dist-packages (from scikit-learn->spkit) (3.2.0)\n",
            "Requirement already satisfied: six>=1.5 in /usr/local/lib/python3.10/dist-packages (from python-dateutil>=2.7->matplotlib->spkit) (1.16.0)\n"
          ]
        }
      ],
      "source": [
        "!pip install mlend\n",
        "!pip install spkit"
      ]
    },
    {
      "cell_type": "code",
      "execution_count": 2,
      "metadata": {
        "colab": {
          "base_uri": "https://localhost:8080/"
        },
        "id": "54j2-vJ9QEsh",
        "outputId": "c55c6333-df24-4334-a7ad-d91cc821ec76"
      },
      "outputs": [
        {
          "output_type": "stream",
          "name": "stdout",
          "text": [
            "Mounted at /content/drive\n"
          ]
        }
      ],
      "source": [
        "from google.colab import drive\n",
        "\n",
        "import numpy as np\n",
        "import pandas as pd\n",
        "import matplotlib.pyplot as plt\n",
        "import spkit as sp\n",
        "\n",
        "from skimage import exposure\n",
        "from skimage.color import rgb2hsv, rgb2gray\n",
        "import skimage as ski\n",
        "\n",
        "import mlend\n",
        "from mlend import download_yummy_small, yummy_small_load,download_yummy,yummy_load\n",
        "\n",
        "import os, sys, re, pickle, glob\n",
        "import urllib.request\n",
        "import zipfile\n",
        "\n",
        "import IPython.display as ipd3\n",
        "from tqdm import tqdm\n",
        "import librosa\n",
        "\n",
        "from sklearn.base import BaseEstimator, TransformerMixin\n",
        "from sklearn.pipeline import Pipeline\n",
        "from skimage import io\n",
        "from skimage import transform\n",
        "from skimage.feature import graycomatrix, graycoprops\n",
        "from sklearn.preprocessing import StandardScaler\n",
        "from sklearn.svm import LinearSVC\n",
        "from sklearn.ensemble import RandomForestClassifier\n",
        "\n",
        "drive.mount('/content/drive')"
      ]
    },
    {
      "cell_type": "code",
      "execution_count": 3,
      "metadata": {
        "colab": {
          "base_uri": "https://localhost:8080/"
        },
        "id": "5a6Zx7WYQItr",
        "outputId": "78ad374e-5cd8-40a0-9198-b4844d3f7581"
      },
      "outputs": [
        {
          "output_type": "stream",
          "name": "stdout",
          "text": [
            "Downloading 3250 image files from https://github.com/MLEndDatasets/Yummy\n",
            "100%|\u001b[0m▓▓▓▓▓▓▓▓▓▓▓▓▓▓▓▓▓▓▓▓▓▓▓▓▓▓▓▓▓▓▓▓▓▓▓▓▓▓▓▓▓▓▓▓▓▓▓▓▓▓\u001b[0m|3250\\3250|003250.jpg\n",
            "Done!\n"
          ]
        }
      ],
      "source": [
        "subset = {}\n",
        "\n",
        "datadir = download_yummy(save_to = 'content/drive/MyDrive/Data//MLEnd', subset = subset,verbose=1,overwrite=False)"
      ]
    },
    {
      "cell_type": "code",
      "execution_count": 4,
      "metadata": {
        "colab": {
          "base_uri": "https://localhost:8080/"
        },
        "id": "qJLbYRbGQdkX",
        "outputId": "f44bb8c5-ac85-4ebf-c88a-26dee1cc062b"
      },
      "outputs": [
        {
          "output_type": "execute_result",
          "data": {
            "text/plain": [
              "['MLEndYD_image_attributes_benchmark.csv', 'MLEndYD_images']"
            ]
          },
          "metadata": {},
          "execution_count": 4
        }
      ],
      "source": [
        "os.listdir(datadir)"
      ]
    },
    {
      "cell_type": "markdown",
      "metadata": {
        "id": "o38VQkcdKd6k"
      },
      "source": [
        "# 2 Problem formulation\n",
        "\n",
        "**Macine Learning Problem** :- Using the MLEnd Yummy Dataset, I am building a machine learning pipeline that takes as an input ingredients of a dish and predicts whether the dish is healthy or not.\n",
        "\n",
        "**What's Interesting About It?** :- In our contemporary world, prioritizing health is a prevalent concern. Developing an ML model capable of predicting dish healthiness from ingredients becomes crucial. Some dishes, despite seemingly healthy ingredients, may lack overall health benefits. This model aims to assist individuals in making informed choices for a healthier diet."
      ]
    },
    {
      "cell_type": "markdown",
      "metadata": {
        "id": "N3BwrtEdLDit"
      },
      "source": [
        "# 3 Machine Learning pipeline\n",
        "\n",
        "Following are the steps I perform to form a pipeline,\n",
        "\n",
        "**1.Import and download all the libraries/yummy small dataset**\n",
        "\n",
        "Downloading the image parameter sheet that I will be using to train and test my model\n",
        "\n",
        "**2.Visualize the data**\n",
        "\n",
        "Visualizing the data to understand the dataset.\n",
        "\n",
        "**3.Split dataset into train and test data**\n",
        "\n",
        "Splitting the dataset into train and test data.\n",
        "\n",
        "**4.Transform all the ingredients into a vector**\n",
        "\n",
        "From the dataset we can see that each dish containes multiple ingredients but we can not train our model by using these ingredients as it is hence I am converting these ingredients into **tokens using countvecorizer**, I am transofrming it into a feature vector with both **unigrams and bigrams.**\n",
        "\n",
        "In addition we can see that there **5 healthiness ratings** and for each of the rating the value count is different, hence I am adding one more colums to my dataframe as **Healthiness_rating_int_encoded** which will encode any value **less than 4 as 0 and others as 1, where 0 means not healthy and 1 means healthy**\n",
        "\n",
        "**In the next stage of pipeline I am performing following steps.**\n",
        "\n",
        "**5.Extract and Normalize features**\n",
        "\n",
        "After converting the ingredient into a feature vector the size of features becomes very large hence there is a need to to **normalize this large size** of features, for this purposes I am using **TruncatedSVD** class which will normalize my features into specified number of features.\n",
        "\n",
        "**6.Train classifier based on features**\n",
        "\n",
        "In the next step I am taking the above normalized data  obtained in above steps and training RandomForest classifier on these parameters\n",
        "\n",
        "**7.Check results accuracy confusion matrix.**\n",
        "\n",
        "At the end I am compairing the results of RandomForestClassifier and LinearSvc plotting the confusions matrix for both and identifying which model works better"
      ]
    },
    {
      "cell_type": "markdown",
      "metadata": {
        "id": "j1nDXnzYLLH6"
      },
      "source": [
        "# 4 Transformation stage\n",
        "\n",
        "Describe any transformations, such as feature extraction. Identify input and output. Explain why you have chosen this transformation stage."
      ]
    },
    {
      "cell_type": "markdown",
      "source": [
        " **Feature Extraction**\n",
        "\n",
        "To predict whether a set of ingredients is healthy or not using all the ingredients in the dataset, we face a high-dimensional space with approximately **11898** dimensions. Given our limited dataset size, feature extraction becomes crucial to **reduce dimensionality**. The functions **preprocess_XvalsTest** and **preprocess_XvalsTrain** are designed to tokenize and normalize the ingredients\n",
        "\n",
        "**Encoding**\n",
        "\n",
        "From the dataset we can see that there are 5 healthiness ratings with count for each rating as different this can make our model biased toeards the values with **higer counts** e.g. 4 or 5 hence it is necessarry to encode these values into 0 or one in such a way that value counts for both values are close to each other, I am performing this action in **preprocess_Yvals** where the data with healthiness rating less than 4 is encoded as 0 and other data is encoded as 1."
      ],
      "metadata": {
        "id": "dzv-tww_BK-H"
      }
    },
    {
      "cell_type": "markdown",
      "source": [
        "# 5 Modelling\n",
        "\n",
        "The chosen machine learning model **Random Forest Classifier** serves as an excellent solution to the ML problem I am trying to formulate. Notably, it provides a feature importance measure, facilitating the identification of influential features within the dataset. This insight proves valuable for feature selection and a comprehensive understanding of the dataset's characteristics. In addition Can capture complex relationships and **non-linear** patterns which is the case with my ML problems as the relationship between ingredients and healthiness may be non-linear"
      ],
      "metadata": {
        "id": "K7DMSvbYFWFa"
      }
    },
    {
      "cell_type": "markdown",
      "metadata": {
        "id": "bPTSuaB9L2jU"
      },
      "source": [
        "## 6 Methodology\n",
        "\n",
        "I am performing following steps to train and test my models and evaluate their performance.\n",
        "\n",
        "**Model Training:** The Random Forest Classifier will be trained on the preprocessed and normalized dataset to learn patterns and relationships.\n",
        "\n",
        "**Validation:** The trained models will be assessed on a separate testing dataset to ensure their ability to generalize and make accurate predictions on unseen data.\n",
        "\n",
        "**Performance Assessment:** Model performance will be evaluated using key metrics such as accuracy, precision, recall, F1 score, and the ROC curve. The confusion matrix will provide a detailed breakdown of true positives, true negatives, false positives, and false negatives, offering insights into the models' predictive capabilities."
      ]
    },
    {
      "cell_type": "markdown",
      "metadata": {
        "id": "HZQPxztuL9AW"
      },
      "source": [
        "# 7 Dataset\n",
        "\n",
        "I am using the **Ingredients,Healthiness_rating,Healthiness_rating_int** columns from the MLEnd benchmark sheet, as I want to build a model which predicts healthiness of a dish based on ingredients only these 3 columns will be of use to me. Ingredients column can be used as X values and healthiness rating can be used as categorical value i.e. Y values. **Healthiness_rating_int column provides numerical encoding of healthiness rating hence there is no need to perform any preprocessing steps in this case.**"
      ]
    },
    {
      "cell_type": "markdown",
      "source": [
        "**Train and Test Split**\n",
        "\n",
        "Splitting the dataset into train and test data, using only 3 columns Ingredients,Healthiness_rating,Healthiness_rating_int"
      ],
      "metadata": {
        "id": "dk-BBnCrG-Hl"
      }
    },
    {
      "cell_type": "code",
      "execution_count": 5,
      "metadata": {
        "colab": {
          "base_uri": "https://localhost:8080/"
        },
        "id": "CLuJ8sa3QwRt",
        "outputId": "bc916e5a-5d5e-41b4-9eed-c6df1cff211d"
      },
      "outputs": [
        {
          "output_type": "stream",
          "name": "stdout",
          "text": [
            "Total 3250 found in content/drive/MyDrive/Data//MLEnd/yummy/MLEndYD_images/\n"
          ]
        }
      ],
      "source": [
        "TrainSet, TestSet, Map = yummy_load(datadir_main=datadir,train_test_split='Benchmark_A',attributes_as_labels=['Ingredients','Healthiness_rating','Healthiness_rating_int'],encode_labels=False)"
      ]
    },
    {
      "cell_type": "markdown",
      "source": [
        "**Data Visualization**\n",
        "\n",
        "visualizing train and test data"
      ],
      "metadata": {
        "id": "M6X9yBBjJlV4"
      }
    },
    {
      "cell_type": "code",
      "source": [
        "TrainSet['Y']"
      ],
      "metadata": {
        "colab": {
          "base_uri": "https://localhost:8080/",
          "height": 423
        },
        "id": "7E-4DUqdJ1Os",
        "outputId": "317f875b-9be1-4d16-f878-f1655e3dd512"
      },
      "execution_count": 33,
      "outputs": [
        {
          "output_type": "execute_result",
          "data": {
            "text/plain": [
              "                                            Ingredients Healthiness_rating  \\\n",
              "0                 rice,chicken_breast,spicy_curry_sauce            neutral   \n",
              "1     eggs,bacon,hash_brown,tomato,bread,tomato,bake...          unhealthy   \n",
              "2     chili,chicken,peanuts,sihuan_peppercorns,green...            neutral   \n",
              "3         sugar,water,khoya,milk,salt,oil,cardamon,ghee          unhealthy   \n",
              "4     chicken,lemon,turmeric,garam_masala,coriander_...            healthy   \n",
              "...                                                 ...                ...   \n",
              "3243  rice,split_yellow_mung_beans,salt,cumin_seeds,...            healthy   \n",
              "3244  olive_oil,beef_mince,onion,carrot,celery,garli...            neutral   \n",
              "3245  1_cup_basmati_rice,2_cups_water,2_tablespoons_...            healthy   \n",
              "3248                             kiwi,banana,apple,milk       very_healthy   \n",
              "3249   beef_patty,bread_roll,cherry_tomato,_onion,chive            neutral   \n",
              "\n",
              "      Healthiness_rating_int  Healthiness_rating_int_encoded  \n",
              "0                        3.0                               0  \n",
              "1                        2.0                               0  \n",
              "2                        3.0                               0  \n",
              "3                        2.0                               0  \n",
              "4                        4.0                               1  \n",
              "...                      ...                             ...  \n",
              "3243                     4.0                               1  \n",
              "3244                     3.0                               0  \n",
              "3245                     4.0                               1  \n",
              "3248                     5.0                               1  \n",
              "3249                     3.0                               0  \n",
              "\n",
              "[2275 rows x 4 columns]"
            ],
            "text/html": [
              "\n",
              "  <div id=\"df-88d1fe01-a1a1-4e71-9560-39002662ab81\" class=\"colab-df-container\">\n",
              "    <div>\n",
              "<style scoped>\n",
              "    .dataframe tbody tr th:only-of-type {\n",
              "        vertical-align: middle;\n",
              "    }\n",
              "\n",
              "    .dataframe tbody tr th {\n",
              "        vertical-align: top;\n",
              "    }\n",
              "\n",
              "    .dataframe thead th {\n",
              "        text-align: right;\n",
              "    }\n",
              "</style>\n",
              "<table border=\"1\" class=\"dataframe\">\n",
              "  <thead>\n",
              "    <tr style=\"text-align: right;\">\n",
              "      <th></th>\n",
              "      <th>Ingredients</th>\n",
              "      <th>Healthiness_rating</th>\n",
              "      <th>Healthiness_rating_int</th>\n",
              "      <th>Healthiness_rating_int_encoded</th>\n",
              "    </tr>\n",
              "  </thead>\n",
              "  <tbody>\n",
              "    <tr>\n",
              "      <th>0</th>\n",
              "      <td>rice,chicken_breast,spicy_curry_sauce</td>\n",
              "      <td>neutral</td>\n",
              "      <td>3.0</td>\n",
              "      <td>0</td>\n",
              "    </tr>\n",
              "    <tr>\n",
              "      <th>1</th>\n",
              "      <td>eggs,bacon,hash_brown,tomato,bread,tomato,bake...</td>\n",
              "      <td>unhealthy</td>\n",
              "      <td>2.0</td>\n",
              "      <td>0</td>\n",
              "    </tr>\n",
              "    <tr>\n",
              "      <th>2</th>\n",
              "      <td>chili,chicken,peanuts,sihuan_peppercorns,green...</td>\n",
              "      <td>neutral</td>\n",
              "      <td>3.0</td>\n",
              "      <td>0</td>\n",
              "    </tr>\n",
              "    <tr>\n",
              "      <th>3</th>\n",
              "      <td>sugar,water,khoya,milk,salt,oil,cardamon,ghee</td>\n",
              "      <td>unhealthy</td>\n",
              "      <td>2.0</td>\n",
              "      <td>0</td>\n",
              "    </tr>\n",
              "    <tr>\n",
              "      <th>4</th>\n",
              "      <td>chicken,lemon,turmeric,garam_masala,coriander_...</td>\n",
              "      <td>healthy</td>\n",
              "      <td>4.0</td>\n",
              "      <td>1</td>\n",
              "    </tr>\n",
              "    <tr>\n",
              "      <th>...</th>\n",
              "      <td>...</td>\n",
              "      <td>...</td>\n",
              "      <td>...</td>\n",
              "      <td>...</td>\n",
              "    </tr>\n",
              "    <tr>\n",
              "      <th>3243</th>\n",
              "      <td>rice,split_yellow_mung_beans,salt,cumin_seeds,...</td>\n",
              "      <td>healthy</td>\n",
              "      <td>4.0</td>\n",
              "      <td>1</td>\n",
              "    </tr>\n",
              "    <tr>\n",
              "      <th>3244</th>\n",
              "      <td>olive_oil,beef_mince,onion,carrot,celery,garli...</td>\n",
              "      <td>neutral</td>\n",
              "      <td>3.0</td>\n",
              "      <td>0</td>\n",
              "    </tr>\n",
              "    <tr>\n",
              "      <th>3245</th>\n",
              "      <td>1_cup_basmati_rice,2_cups_water,2_tablespoons_...</td>\n",
              "      <td>healthy</td>\n",
              "      <td>4.0</td>\n",
              "      <td>1</td>\n",
              "    </tr>\n",
              "    <tr>\n",
              "      <th>3248</th>\n",
              "      <td>kiwi,banana,apple,milk</td>\n",
              "      <td>very_healthy</td>\n",
              "      <td>5.0</td>\n",
              "      <td>1</td>\n",
              "    </tr>\n",
              "    <tr>\n",
              "      <th>3249</th>\n",
              "      <td>beef_patty,bread_roll,cherry_tomato,_onion,chive</td>\n",
              "      <td>neutral</td>\n",
              "      <td>3.0</td>\n",
              "      <td>0</td>\n",
              "    </tr>\n",
              "  </tbody>\n",
              "</table>\n",
              "<p>2275 rows × 4 columns</p>\n",
              "</div>\n",
              "    <div class=\"colab-df-buttons\">\n",
              "\n",
              "  <div class=\"colab-df-container\">\n",
              "    <button class=\"colab-df-convert\" onclick=\"convertToInteractive('df-88d1fe01-a1a1-4e71-9560-39002662ab81')\"\n",
              "            title=\"Convert this dataframe to an interactive table.\"\n",
              "            style=\"display:none;\">\n",
              "\n",
              "  <svg xmlns=\"http://www.w3.org/2000/svg\" height=\"24px\" viewBox=\"0 -960 960 960\">\n",
              "    <path d=\"M120-120v-720h720v720H120Zm60-500h600v-160H180v160Zm220 220h160v-160H400v160Zm0 220h160v-160H400v160ZM180-400h160v-160H180v160Zm440 0h160v-160H620v160ZM180-180h160v-160H180v160Zm440 0h160v-160H620v160Z\"/>\n",
              "  </svg>\n",
              "    </button>\n",
              "\n",
              "  <style>\n",
              "    .colab-df-container {\n",
              "      display:flex;\n",
              "      gap: 12px;\n",
              "    }\n",
              "\n",
              "    .colab-df-convert {\n",
              "      background-color: #E8F0FE;\n",
              "      border: none;\n",
              "      border-radius: 50%;\n",
              "      cursor: pointer;\n",
              "      display: none;\n",
              "      fill: #1967D2;\n",
              "      height: 32px;\n",
              "      padding: 0 0 0 0;\n",
              "      width: 32px;\n",
              "    }\n",
              "\n",
              "    .colab-df-convert:hover {\n",
              "      background-color: #E2EBFA;\n",
              "      box-shadow: 0px 1px 2px rgba(60, 64, 67, 0.3), 0px 1px 3px 1px rgba(60, 64, 67, 0.15);\n",
              "      fill: #174EA6;\n",
              "    }\n",
              "\n",
              "    .colab-df-buttons div {\n",
              "      margin-bottom: 4px;\n",
              "    }\n",
              "\n",
              "    [theme=dark] .colab-df-convert {\n",
              "      background-color: #3B4455;\n",
              "      fill: #D2E3FC;\n",
              "    }\n",
              "\n",
              "    [theme=dark] .colab-df-convert:hover {\n",
              "      background-color: #434B5C;\n",
              "      box-shadow: 0px 1px 3px 1px rgba(0, 0, 0, 0.15);\n",
              "      filter: drop-shadow(0px 1px 2px rgba(0, 0, 0, 0.3));\n",
              "      fill: #FFFFFF;\n",
              "    }\n",
              "  </style>\n",
              "\n",
              "    <script>\n",
              "      const buttonEl =\n",
              "        document.querySelector('#df-88d1fe01-a1a1-4e71-9560-39002662ab81 button.colab-df-convert');\n",
              "      buttonEl.style.display =\n",
              "        google.colab.kernel.accessAllowed ? 'block' : 'none';\n",
              "\n",
              "      async function convertToInteractive(key) {\n",
              "        const element = document.querySelector('#df-88d1fe01-a1a1-4e71-9560-39002662ab81');\n",
              "        const dataTable =\n",
              "          await google.colab.kernel.invokeFunction('convertToInteractive',\n",
              "                                                    [key], {});\n",
              "        if (!dataTable) return;\n",
              "\n",
              "        const docLinkHtml = 'Like what you see? Visit the ' +\n",
              "          '<a target=\"_blank\" href=https://colab.research.google.com/notebooks/data_table.ipynb>data table notebook</a>'\n",
              "          + ' to learn more about interactive tables.';\n",
              "        element.innerHTML = '';\n",
              "        dataTable['output_type'] = 'display_data';\n",
              "        await google.colab.output.renderOutput(dataTable, element);\n",
              "        const docLink = document.createElement('div');\n",
              "        docLink.innerHTML = docLinkHtml;\n",
              "        element.appendChild(docLink);\n",
              "      }\n",
              "    </script>\n",
              "  </div>\n",
              "\n",
              "\n",
              "<div id=\"df-403c2864-454e-4d60-b17e-26f4d0f4cd38\">\n",
              "  <button class=\"colab-df-quickchart\" onclick=\"quickchart('df-403c2864-454e-4d60-b17e-26f4d0f4cd38')\"\n",
              "            title=\"Suggest charts\"\n",
              "            style=\"display:none;\">\n",
              "\n",
              "<svg xmlns=\"http://www.w3.org/2000/svg\" height=\"24px\"viewBox=\"0 0 24 24\"\n",
              "     width=\"24px\">\n",
              "    <g>\n",
              "        <path d=\"M19 3H5c-1.1 0-2 .9-2 2v14c0 1.1.9 2 2 2h14c1.1 0 2-.9 2-2V5c0-1.1-.9-2-2-2zM9 17H7v-7h2v7zm4 0h-2V7h2v10zm4 0h-2v-4h2v4z\"/>\n",
              "    </g>\n",
              "</svg>\n",
              "  </button>\n",
              "\n",
              "<style>\n",
              "  .colab-df-quickchart {\n",
              "      --bg-color: #E8F0FE;\n",
              "      --fill-color: #1967D2;\n",
              "      --hover-bg-color: #E2EBFA;\n",
              "      --hover-fill-color: #174EA6;\n",
              "      --disabled-fill-color: #AAA;\n",
              "      --disabled-bg-color: #DDD;\n",
              "  }\n",
              "\n",
              "  [theme=dark] .colab-df-quickchart {\n",
              "      --bg-color: #3B4455;\n",
              "      --fill-color: #D2E3FC;\n",
              "      --hover-bg-color: #434B5C;\n",
              "      --hover-fill-color: #FFFFFF;\n",
              "      --disabled-bg-color: #3B4455;\n",
              "      --disabled-fill-color: #666;\n",
              "  }\n",
              "\n",
              "  .colab-df-quickchart {\n",
              "    background-color: var(--bg-color);\n",
              "    border: none;\n",
              "    border-radius: 50%;\n",
              "    cursor: pointer;\n",
              "    display: none;\n",
              "    fill: var(--fill-color);\n",
              "    height: 32px;\n",
              "    padding: 0;\n",
              "    width: 32px;\n",
              "  }\n",
              "\n",
              "  .colab-df-quickchart:hover {\n",
              "    background-color: var(--hover-bg-color);\n",
              "    box-shadow: 0 1px 2px rgba(60, 64, 67, 0.3), 0 1px 3px 1px rgba(60, 64, 67, 0.15);\n",
              "    fill: var(--button-hover-fill-color);\n",
              "  }\n",
              "\n",
              "  .colab-df-quickchart-complete:disabled,\n",
              "  .colab-df-quickchart-complete:disabled:hover {\n",
              "    background-color: var(--disabled-bg-color);\n",
              "    fill: var(--disabled-fill-color);\n",
              "    box-shadow: none;\n",
              "  }\n",
              "\n",
              "  .colab-df-spinner {\n",
              "    border: 2px solid var(--fill-color);\n",
              "    border-color: transparent;\n",
              "    border-bottom-color: var(--fill-color);\n",
              "    animation:\n",
              "      spin 1s steps(1) infinite;\n",
              "  }\n",
              "\n",
              "  @keyframes spin {\n",
              "    0% {\n",
              "      border-color: transparent;\n",
              "      border-bottom-color: var(--fill-color);\n",
              "      border-left-color: var(--fill-color);\n",
              "    }\n",
              "    20% {\n",
              "      border-color: transparent;\n",
              "      border-left-color: var(--fill-color);\n",
              "      border-top-color: var(--fill-color);\n",
              "    }\n",
              "    30% {\n",
              "      border-color: transparent;\n",
              "      border-left-color: var(--fill-color);\n",
              "      border-top-color: var(--fill-color);\n",
              "      border-right-color: var(--fill-color);\n",
              "    }\n",
              "    40% {\n",
              "      border-color: transparent;\n",
              "      border-right-color: var(--fill-color);\n",
              "      border-top-color: var(--fill-color);\n",
              "    }\n",
              "    60% {\n",
              "      border-color: transparent;\n",
              "      border-right-color: var(--fill-color);\n",
              "    }\n",
              "    80% {\n",
              "      border-color: transparent;\n",
              "      border-right-color: var(--fill-color);\n",
              "      border-bottom-color: var(--fill-color);\n",
              "    }\n",
              "    90% {\n",
              "      border-color: transparent;\n",
              "      border-bottom-color: var(--fill-color);\n",
              "    }\n",
              "  }\n",
              "</style>\n",
              "\n",
              "  <script>\n",
              "    async function quickchart(key) {\n",
              "      const quickchartButtonEl =\n",
              "        document.querySelector('#' + key + ' button');\n",
              "      quickchartButtonEl.disabled = true;  // To prevent multiple clicks.\n",
              "      quickchartButtonEl.classList.add('colab-df-spinner');\n",
              "      try {\n",
              "        const charts = await google.colab.kernel.invokeFunction(\n",
              "            'suggestCharts', [key], {});\n",
              "      } catch (error) {\n",
              "        console.error('Error during call to suggestCharts:', error);\n",
              "      }\n",
              "      quickchartButtonEl.classList.remove('colab-df-spinner');\n",
              "      quickchartButtonEl.classList.add('colab-df-quickchart-complete');\n",
              "    }\n",
              "    (() => {\n",
              "      let quickchartButtonEl =\n",
              "        document.querySelector('#df-403c2864-454e-4d60-b17e-26f4d0f4cd38 button');\n",
              "      quickchartButtonEl.style.display =\n",
              "        google.colab.kernel.accessAllowed ? 'block' : 'none';\n",
              "    })();\n",
              "  </script>\n",
              "</div>\n",
              "    </div>\n",
              "  </div>\n"
            ]
          },
          "metadata": {},
          "execution_count": 33
        }
      ]
    },
    {
      "cell_type": "code",
      "source": [
        "TestSet['Y']"
      ],
      "metadata": {
        "colab": {
          "base_uri": "https://localhost:8080/",
          "height": 423
        },
        "id": "nFpUFpqIKJfW",
        "outputId": "9c9fc730-e98f-4764-d371-0488ee7c9d09"
      },
      "execution_count": 34,
      "outputs": [
        {
          "output_type": "execute_result",
          "data": {
            "text/plain": [
              "                                            Ingredients Healthiness_rating  \\\n",
              "5     gelatine_leaf,dark_chocolate,milk_chocolate,eg...          unhealthy   \n",
              "6     chicken,cheese,mayonnaise,salt,red_chilli_powd...            healthy   \n",
              "9     potatoes,tomatoes,green_bell_peppers,onions,gr...            healthy   \n",
              "13                  sugar,cocoa_powder,salt,milk,butter            neutral   \n",
              "15                                    rice,spices,herbs            healthy   \n",
              "...                                                 ...                ...   \n",
              "3236  250_grams_(about_9_ounces)_fresh_okra_(bhindi)...            healthy   \n",
              "3237                              tortilla,pak_choi,egg            healthy   \n",
              "3240  cheddar_cheese,edam_cheese,olives,tomatoes,cuc...       very_healthy   \n",
              "3246  fried_cottage_cheese,ghee,lentils,milk,wheat_f...            healthy   \n",
              "3247  potato,onion,peanut,salt,turmeric_powder,red_c...     very_unhealthy   \n",
              "\n",
              "      Healthiness_rating_int  Healthiness_rating_int_encoded  \n",
              "5                        2.0                               0  \n",
              "6                        4.0                               1  \n",
              "9                        4.0                               1  \n",
              "13                       3.0                               0  \n",
              "15                       4.0                               1  \n",
              "...                      ...                             ...  \n",
              "3236                     4.0                               1  \n",
              "3237                     4.0                               1  \n",
              "3240                     5.0                               1  \n",
              "3246                     4.0                               1  \n",
              "3247                     1.0                               0  \n",
              "\n",
              "[975 rows x 4 columns]"
            ],
            "text/html": [
              "\n",
              "  <div id=\"df-51bf23ac-9fcf-4508-9bdd-39adc77d0adb\" class=\"colab-df-container\">\n",
              "    <div>\n",
              "<style scoped>\n",
              "    .dataframe tbody tr th:only-of-type {\n",
              "        vertical-align: middle;\n",
              "    }\n",
              "\n",
              "    .dataframe tbody tr th {\n",
              "        vertical-align: top;\n",
              "    }\n",
              "\n",
              "    .dataframe thead th {\n",
              "        text-align: right;\n",
              "    }\n",
              "</style>\n",
              "<table border=\"1\" class=\"dataframe\">\n",
              "  <thead>\n",
              "    <tr style=\"text-align: right;\">\n",
              "      <th></th>\n",
              "      <th>Ingredients</th>\n",
              "      <th>Healthiness_rating</th>\n",
              "      <th>Healthiness_rating_int</th>\n",
              "      <th>Healthiness_rating_int_encoded</th>\n",
              "    </tr>\n",
              "  </thead>\n",
              "  <tbody>\n",
              "    <tr>\n",
              "      <th>5</th>\n",
              "      <td>gelatine_leaf,dark_chocolate,milk_chocolate,eg...</td>\n",
              "      <td>unhealthy</td>\n",
              "      <td>2.0</td>\n",
              "      <td>0</td>\n",
              "    </tr>\n",
              "    <tr>\n",
              "      <th>6</th>\n",
              "      <td>chicken,cheese,mayonnaise,salt,red_chilli_powd...</td>\n",
              "      <td>healthy</td>\n",
              "      <td>4.0</td>\n",
              "      <td>1</td>\n",
              "    </tr>\n",
              "    <tr>\n",
              "      <th>9</th>\n",
              "      <td>potatoes,tomatoes,green_bell_peppers,onions,gr...</td>\n",
              "      <td>healthy</td>\n",
              "      <td>4.0</td>\n",
              "      <td>1</td>\n",
              "    </tr>\n",
              "    <tr>\n",
              "      <th>13</th>\n",
              "      <td>sugar,cocoa_powder,salt,milk,butter</td>\n",
              "      <td>neutral</td>\n",
              "      <td>3.0</td>\n",
              "      <td>0</td>\n",
              "    </tr>\n",
              "    <tr>\n",
              "      <th>15</th>\n",
              "      <td>rice,spices,herbs</td>\n",
              "      <td>healthy</td>\n",
              "      <td>4.0</td>\n",
              "      <td>1</td>\n",
              "    </tr>\n",
              "    <tr>\n",
              "      <th>...</th>\n",
              "      <td>...</td>\n",
              "      <td>...</td>\n",
              "      <td>...</td>\n",
              "      <td>...</td>\n",
              "    </tr>\n",
              "    <tr>\n",
              "      <th>3236</th>\n",
              "      <td>250_grams_(about_9_ounces)_fresh_okra_(bhindi)...</td>\n",
              "      <td>healthy</td>\n",
              "      <td>4.0</td>\n",
              "      <td>1</td>\n",
              "    </tr>\n",
              "    <tr>\n",
              "      <th>3237</th>\n",
              "      <td>tortilla,pak_choi,egg</td>\n",
              "      <td>healthy</td>\n",
              "      <td>4.0</td>\n",
              "      <td>1</td>\n",
              "    </tr>\n",
              "    <tr>\n",
              "      <th>3240</th>\n",
              "      <td>cheddar_cheese,edam_cheese,olives,tomatoes,cuc...</td>\n",
              "      <td>very_healthy</td>\n",
              "      <td>5.0</td>\n",
              "      <td>1</td>\n",
              "    </tr>\n",
              "    <tr>\n",
              "      <th>3246</th>\n",
              "      <td>fried_cottage_cheese,ghee,lentils,milk,wheat_f...</td>\n",
              "      <td>healthy</td>\n",
              "      <td>4.0</td>\n",
              "      <td>1</td>\n",
              "    </tr>\n",
              "    <tr>\n",
              "      <th>3247</th>\n",
              "      <td>potato,onion,peanut,salt,turmeric_powder,red_c...</td>\n",
              "      <td>very_unhealthy</td>\n",
              "      <td>1.0</td>\n",
              "      <td>0</td>\n",
              "    </tr>\n",
              "  </tbody>\n",
              "</table>\n",
              "<p>975 rows × 4 columns</p>\n",
              "</div>\n",
              "    <div class=\"colab-df-buttons\">\n",
              "\n",
              "  <div class=\"colab-df-container\">\n",
              "    <button class=\"colab-df-convert\" onclick=\"convertToInteractive('df-51bf23ac-9fcf-4508-9bdd-39adc77d0adb')\"\n",
              "            title=\"Convert this dataframe to an interactive table.\"\n",
              "            style=\"display:none;\">\n",
              "\n",
              "  <svg xmlns=\"http://www.w3.org/2000/svg\" height=\"24px\" viewBox=\"0 -960 960 960\">\n",
              "    <path d=\"M120-120v-720h720v720H120Zm60-500h600v-160H180v160Zm220 220h160v-160H400v160Zm0 220h160v-160H400v160ZM180-400h160v-160H180v160Zm440 0h160v-160H620v160ZM180-180h160v-160H180v160Zm440 0h160v-160H620v160Z\"/>\n",
              "  </svg>\n",
              "    </button>\n",
              "\n",
              "  <style>\n",
              "    .colab-df-container {\n",
              "      display:flex;\n",
              "      gap: 12px;\n",
              "    }\n",
              "\n",
              "    .colab-df-convert {\n",
              "      background-color: #E8F0FE;\n",
              "      border: none;\n",
              "      border-radius: 50%;\n",
              "      cursor: pointer;\n",
              "      display: none;\n",
              "      fill: #1967D2;\n",
              "      height: 32px;\n",
              "      padding: 0 0 0 0;\n",
              "      width: 32px;\n",
              "    }\n",
              "\n",
              "    .colab-df-convert:hover {\n",
              "      background-color: #E2EBFA;\n",
              "      box-shadow: 0px 1px 2px rgba(60, 64, 67, 0.3), 0px 1px 3px 1px rgba(60, 64, 67, 0.15);\n",
              "      fill: #174EA6;\n",
              "    }\n",
              "\n",
              "    .colab-df-buttons div {\n",
              "      margin-bottom: 4px;\n",
              "    }\n",
              "\n",
              "    [theme=dark] .colab-df-convert {\n",
              "      background-color: #3B4455;\n",
              "      fill: #D2E3FC;\n",
              "    }\n",
              "\n",
              "    [theme=dark] .colab-df-convert:hover {\n",
              "      background-color: #434B5C;\n",
              "      box-shadow: 0px 1px 3px 1px rgba(0, 0, 0, 0.15);\n",
              "      filter: drop-shadow(0px 1px 2px rgba(0, 0, 0, 0.3));\n",
              "      fill: #FFFFFF;\n",
              "    }\n",
              "  </style>\n",
              "\n",
              "    <script>\n",
              "      const buttonEl =\n",
              "        document.querySelector('#df-51bf23ac-9fcf-4508-9bdd-39adc77d0adb button.colab-df-convert');\n",
              "      buttonEl.style.display =\n",
              "        google.colab.kernel.accessAllowed ? 'block' : 'none';\n",
              "\n",
              "      async function convertToInteractive(key) {\n",
              "        const element = document.querySelector('#df-51bf23ac-9fcf-4508-9bdd-39adc77d0adb');\n",
              "        const dataTable =\n",
              "          await google.colab.kernel.invokeFunction('convertToInteractive',\n",
              "                                                    [key], {});\n",
              "        if (!dataTable) return;\n",
              "\n",
              "        const docLinkHtml = 'Like what you see? Visit the ' +\n",
              "          '<a target=\"_blank\" href=https://colab.research.google.com/notebooks/data_table.ipynb>data table notebook</a>'\n",
              "          + ' to learn more about interactive tables.';\n",
              "        element.innerHTML = '';\n",
              "        dataTable['output_type'] = 'display_data';\n",
              "        await google.colab.output.renderOutput(dataTable, element);\n",
              "        const docLink = document.createElement('div');\n",
              "        docLink.innerHTML = docLinkHtml;\n",
              "        element.appendChild(docLink);\n",
              "      }\n",
              "    </script>\n",
              "  </div>\n",
              "\n",
              "\n",
              "<div id=\"df-7b384f39-b51e-4276-bc5e-aa8f75f72d72\">\n",
              "  <button class=\"colab-df-quickchart\" onclick=\"quickchart('df-7b384f39-b51e-4276-bc5e-aa8f75f72d72')\"\n",
              "            title=\"Suggest charts\"\n",
              "            style=\"display:none;\">\n",
              "\n",
              "<svg xmlns=\"http://www.w3.org/2000/svg\" height=\"24px\"viewBox=\"0 0 24 24\"\n",
              "     width=\"24px\">\n",
              "    <g>\n",
              "        <path d=\"M19 3H5c-1.1 0-2 .9-2 2v14c0 1.1.9 2 2 2h14c1.1 0 2-.9 2-2V5c0-1.1-.9-2-2-2zM9 17H7v-7h2v7zm4 0h-2V7h2v10zm4 0h-2v-4h2v4z\"/>\n",
              "    </g>\n",
              "</svg>\n",
              "  </button>\n",
              "\n",
              "<style>\n",
              "  .colab-df-quickchart {\n",
              "      --bg-color: #E8F0FE;\n",
              "      --fill-color: #1967D2;\n",
              "      --hover-bg-color: #E2EBFA;\n",
              "      --hover-fill-color: #174EA6;\n",
              "      --disabled-fill-color: #AAA;\n",
              "      --disabled-bg-color: #DDD;\n",
              "  }\n",
              "\n",
              "  [theme=dark] .colab-df-quickchart {\n",
              "      --bg-color: #3B4455;\n",
              "      --fill-color: #D2E3FC;\n",
              "      --hover-bg-color: #434B5C;\n",
              "      --hover-fill-color: #FFFFFF;\n",
              "      --disabled-bg-color: #3B4455;\n",
              "      --disabled-fill-color: #666;\n",
              "  }\n",
              "\n",
              "  .colab-df-quickchart {\n",
              "    background-color: var(--bg-color);\n",
              "    border: none;\n",
              "    border-radius: 50%;\n",
              "    cursor: pointer;\n",
              "    display: none;\n",
              "    fill: var(--fill-color);\n",
              "    height: 32px;\n",
              "    padding: 0;\n",
              "    width: 32px;\n",
              "  }\n",
              "\n",
              "  .colab-df-quickchart:hover {\n",
              "    background-color: var(--hover-bg-color);\n",
              "    box-shadow: 0 1px 2px rgba(60, 64, 67, 0.3), 0 1px 3px 1px rgba(60, 64, 67, 0.15);\n",
              "    fill: var(--button-hover-fill-color);\n",
              "  }\n",
              "\n",
              "  .colab-df-quickchart-complete:disabled,\n",
              "  .colab-df-quickchart-complete:disabled:hover {\n",
              "    background-color: var(--disabled-bg-color);\n",
              "    fill: var(--disabled-fill-color);\n",
              "    box-shadow: none;\n",
              "  }\n",
              "\n",
              "  .colab-df-spinner {\n",
              "    border: 2px solid var(--fill-color);\n",
              "    border-color: transparent;\n",
              "    border-bottom-color: var(--fill-color);\n",
              "    animation:\n",
              "      spin 1s steps(1) infinite;\n",
              "  }\n",
              "\n",
              "  @keyframes spin {\n",
              "    0% {\n",
              "      border-color: transparent;\n",
              "      border-bottom-color: var(--fill-color);\n",
              "      border-left-color: var(--fill-color);\n",
              "    }\n",
              "    20% {\n",
              "      border-color: transparent;\n",
              "      border-left-color: var(--fill-color);\n",
              "      border-top-color: var(--fill-color);\n",
              "    }\n",
              "    30% {\n",
              "      border-color: transparent;\n",
              "      border-left-color: var(--fill-color);\n",
              "      border-top-color: var(--fill-color);\n",
              "      border-right-color: var(--fill-color);\n",
              "    }\n",
              "    40% {\n",
              "      border-color: transparent;\n",
              "      border-right-color: var(--fill-color);\n",
              "      border-top-color: var(--fill-color);\n",
              "    }\n",
              "    60% {\n",
              "      border-color: transparent;\n",
              "      border-right-color: var(--fill-color);\n",
              "    }\n",
              "    80% {\n",
              "      border-color: transparent;\n",
              "      border-right-color: var(--fill-color);\n",
              "      border-bottom-color: var(--fill-color);\n",
              "    }\n",
              "    90% {\n",
              "      border-color: transparent;\n",
              "      border-bottom-color: var(--fill-color);\n",
              "    }\n",
              "  }\n",
              "</style>\n",
              "\n",
              "  <script>\n",
              "    async function quickchart(key) {\n",
              "      const quickchartButtonEl =\n",
              "        document.querySelector('#' + key + ' button');\n",
              "      quickchartButtonEl.disabled = true;  // To prevent multiple clicks.\n",
              "      quickchartButtonEl.classList.add('colab-df-spinner');\n",
              "      try {\n",
              "        const charts = await google.colab.kernel.invokeFunction(\n",
              "            'suggestCharts', [key], {});\n",
              "      } catch (error) {\n",
              "        console.error('Error during call to suggestCharts:', error);\n",
              "      }\n",
              "      quickchartButtonEl.classList.remove('colab-df-spinner');\n",
              "      quickchartButtonEl.classList.add('colab-df-quickchart-complete');\n",
              "    }\n",
              "    (() => {\n",
              "      let quickchartButtonEl =\n",
              "        document.querySelector('#df-7b384f39-b51e-4276-bc5e-aa8f75f72d72 button');\n",
              "      quickchartButtonEl.style.display =\n",
              "        google.colab.kernel.accessAllowed ? 'block' : 'none';\n",
              "    })();\n",
              "  </script>\n",
              "</div>\n",
              "    </div>\n",
              "  </div>\n"
            ]
          },
          "metadata": {},
          "execution_count": 34
        }
      ]
    },
    {
      "cell_type": "code",
      "source": [
        "from sklearn.feature_extraction.text import TfidfVectorizer,CountVectorizer\n",
        "from sklearn.decomposition import TruncatedSVD\n",
        "from scipy.sparse import csr_matrix\n",
        "import numpy as np\n",
        "\n",
        "vectorizer = TfidfVectorizer(tokenizer=lambda x: x.split(','),ngram_range=(1,2))\n",
        "np.random.seed(0)\n",
        "svd = TruncatedSVD(n_components=10, n_iter=5, random_state=42)"
      ],
      "metadata": {
        "id": "SwRyDttKoHeB"
      },
      "execution_count": 6,
      "outputs": []
    },
    {
      "cell_type": "markdown",
      "source": [
        "**Feature Extraction**\n",
        "\n",
        "converting the ingredients and healthiness ratings into feature vectors and encoded values"
      ],
      "metadata": {
        "id": "YuZqCAVTJfYp"
      }
    },
    {
      "cell_type": "code",
      "execution_count": 29,
      "metadata": {
        "id": "hJdmKQHqRIJ-"
      },
      "outputs": [],
      "source": [
        "def preprocess_Yvals(DataSet):\n",
        "  MLEndDf = DataSet['Y']\n",
        "  print('Healthiness ratings before encoding\\n',MLEndDf['Healthiness_rating_int'].value_counts())\n",
        "  MLEndDf['Healthiness_rating_int_encoded'] = MLEndDf['Healthiness_rating_int'].apply(lambda x: 0 if x < 4 else 1)\n",
        "  print('Healthiness ratings after encoding\\n',MLEndDf['Healthiness_rating_int_encoded'].value_counts())\n",
        "  return MLEndDf['Healthiness_rating_int_encoded']\n",
        "\n",
        "def preprocess_XvalsTrain(DataSet):\n",
        "  X_data = DataSet['Y']['Ingredients']\n",
        "  X_encoded = vectorizer.fit_transform(X_data)\n",
        "  print('Feature size of train data before normalization:-\\t',(X_encoded.shape))\n",
        "  X_encoded_t = svd.fit_transform(X_encoded)\n",
        "  print('Feature size of train after normalization\\t:-',(X_encoded_t.shape))\n",
        "  return X_encoded_t\n",
        "\n",
        "def preprocess_XvalsTest(DataSet):\n",
        "  X_data = DataSet['Y']['Ingredients']\n",
        "  X_encoded = vectorizer.transform(X_data)\n",
        "  print('Feature size of test data before normalization:-\\t',(X_encoded.shape))\n",
        "  X_encoded_t = svd.transform(X_encoded)\n",
        "  print('Feature size test data after normalization\\t:-',(X_encoded_t.shape))\n",
        "  return X_encoded_t"
      ]
    },
    {
      "cell_type": "markdown",
      "source": [
        "**Reasons for feature extraction**\n",
        "\n",
        "Below we can see that the feature count before and after normalization has reduced significatlly from **11898 to 10** and the count of encoded values for train and test data is getting balanced as well"
      ],
      "metadata": {
        "id": "VN01-2NUNQk2"
      }
    },
    {
      "cell_type": "code",
      "execution_count": 30,
      "metadata": {
        "id": "8jS14S3rRTtB",
        "colab": {
          "base_uri": "https://localhost:8080/"
        },
        "outputId": "f6019a56-7e1a-48a8-bfa6-9e16db086e81"
      },
      "outputs": [
        {
          "output_type": "stream",
          "name": "stderr",
          "text": [
            "/usr/local/lib/python3.10/dist-packages/sklearn/feature_extraction/text.py:528: UserWarning: The parameter 'token_pattern' will not be used since 'tokenizer' is not None'\n"
          ]
        },
        {
          "output_type": "stream",
          "name": "stdout",
          "text": [
            "Feature size of train data before normalization:-\t (2275, 11898)\n",
            "Feature size of train after normalization\t:- (2275, 10)\n",
            "Feature size of test data before normalization:-\t (975, 11898)\n",
            "Feature size test data after normalization\t:- (975, 10)\n",
            "Healthiness ratings before encoding\n",
            " 4.0    875\n",
            "3.0    543\n",
            "5.0    442\n",
            "2.0    324\n",
            "1.0     90\n",
            "Name: Healthiness_rating_int, dtype: int64\n",
            "Healthiness ratings after encoding\n",
            " 1    1318\n",
            "0     957\n",
            "Name: Healthiness_rating_int_encoded, dtype: int64\n",
            "Healthiness ratings before encoding\n",
            " 4.0    392\n",
            "3.0    242\n",
            "5.0    165\n",
            "2.0    143\n",
            "1.0     33\n",
            "Name: Healthiness_rating_int, dtype: int64\n",
            "Healthiness ratings after encoding\n",
            " 1    557\n",
            "0    418\n",
            "Name: Healthiness_rating_int_encoded, dtype: int64\n"
          ]
        }
      ],
      "source": [
        "X_train_ingredients = preprocess_XvalsTrain(TrainSet)\n",
        "X_test_ingredients  = preprocess_XvalsTest(TestSet)\n",
        "\n",
        "Y_train = preprocess_Yvals(TrainSet)\n",
        "Y_test = preprocess_Yvals(TestSet)"
      ]
    },
    {
      "cell_type": "markdown",
      "metadata": {
        "id": "2qf7GN1aeXJI"
      },
      "source": [
        "# 8 Results\n",
        "\n",
        "Training the model and plotting the confusion matrix and printing the performance matrci"
      ]
    },
    {
      "cell_type": "code",
      "execution_count": 10,
      "metadata": {
        "id": "_ZrzOWrnRm7L",
        "colab": {
          "base_uri": "https://localhost:8080/",
          "height": 74
        },
        "outputId": "7351e06d-ef07-41ee-eb1e-68bde3bc0d1c"
      },
      "outputs": [
        {
          "output_type": "execute_result",
          "data": {
            "text/plain": [
              "RandomForestClassifier(max_depth=5, n_estimators=50, random_state=110)"
            ],
            "text/html": [
              "<style>#sk-container-id-1 {color: black;background-color: white;}#sk-container-id-1 pre{padding: 0;}#sk-container-id-1 div.sk-toggleable {background-color: white;}#sk-container-id-1 label.sk-toggleable__label {cursor: pointer;display: block;width: 100%;margin-bottom: 0;padding: 0.3em;box-sizing: border-box;text-align: center;}#sk-container-id-1 label.sk-toggleable__label-arrow:before {content: \"▸\";float: left;margin-right: 0.25em;color: #696969;}#sk-container-id-1 label.sk-toggleable__label-arrow:hover:before {color: black;}#sk-container-id-1 div.sk-estimator:hover label.sk-toggleable__label-arrow:before {color: black;}#sk-container-id-1 div.sk-toggleable__content {max-height: 0;max-width: 0;overflow: hidden;text-align: left;background-color: #f0f8ff;}#sk-container-id-1 div.sk-toggleable__content pre {margin: 0.2em;color: black;border-radius: 0.25em;background-color: #f0f8ff;}#sk-container-id-1 input.sk-toggleable__control:checked~div.sk-toggleable__content {max-height: 200px;max-width: 100%;overflow: auto;}#sk-container-id-1 input.sk-toggleable__control:checked~label.sk-toggleable__label-arrow:before {content: \"▾\";}#sk-container-id-1 div.sk-estimator input.sk-toggleable__control:checked~label.sk-toggleable__label {background-color: #d4ebff;}#sk-container-id-1 div.sk-label input.sk-toggleable__control:checked~label.sk-toggleable__label {background-color: #d4ebff;}#sk-container-id-1 input.sk-hidden--visually {border: 0;clip: rect(1px 1px 1px 1px);clip: rect(1px, 1px, 1px, 1px);height: 1px;margin: -1px;overflow: hidden;padding: 0;position: absolute;width: 1px;}#sk-container-id-1 div.sk-estimator {font-family: monospace;background-color: #f0f8ff;border: 1px dotted black;border-radius: 0.25em;box-sizing: border-box;margin-bottom: 0.5em;}#sk-container-id-1 div.sk-estimator:hover {background-color: #d4ebff;}#sk-container-id-1 div.sk-parallel-item::after {content: \"\";width: 100%;border-bottom: 1px solid gray;flex-grow: 1;}#sk-container-id-1 div.sk-label:hover label.sk-toggleable__label {background-color: #d4ebff;}#sk-container-id-1 div.sk-serial::before {content: \"\";position: absolute;border-left: 1px solid gray;box-sizing: border-box;top: 0;bottom: 0;left: 50%;z-index: 0;}#sk-container-id-1 div.sk-serial {display: flex;flex-direction: column;align-items: center;background-color: white;padding-right: 0.2em;padding-left: 0.2em;position: relative;}#sk-container-id-1 div.sk-item {position: relative;z-index: 1;}#sk-container-id-1 div.sk-parallel {display: flex;align-items: stretch;justify-content: center;background-color: white;position: relative;}#sk-container-id-1 div.sk-item::before, #sk-container-id-1 div.sk-parallel-item::before {content: \"\";position: absolute;border-left: 1px solid gray;box-sizing: border-box;top: 0;bottom: 0;left: 50%;z-index: -1;}#sk-container-id-1 div.sk-parallel-item {display: flex;flex-direction: column;z-index: 1;position: relative;background-color: white;}#sk-container-id-1 div.sk-parallel-item:first-child::after {align-self: flex-end;width: 50%;}#sk-container-id-1 div.sk-parallel-item:last-child::after {align-self: flex-start;width: 50%;}#sk-container-id-1 div.sk-parallel-item:only-child::after {width: 0;}#sk-container-id-1 div.sk-dashed-wrapped {border: 1px dashed gray;margin: 0 0.4em 0.5em 0.4em;box-sizing: border-box;padding-bottom: 0.4em;background-color: white;}#sk-container-id-1 div.sk-label label {font-family: monospace;font-weight: bold;display: inline-block;line-height: 1.2em;}#sk-container-id-1 div.sk-label-container {text-align: center;}#sk-container-id-1 div.sk-container {/* jupyter's `normalize.less` sets `[hidden] { display: none; }` but bootstrap.min.css set `[hidden] { display: none !important; }` so we also need the `!important` here to be able to override the default hidden behavior on the sphinx rendered scikit-learn.org. See: https://github.com/scikit-learn/scikit-learn/issues/21755 */display: inline-block !important;position: relative;}#sk-container-id-1 div.sk-text-repr-fallback {display: none;}</style><div id=\"sk-container-id-1\" class=\"sk-top-container\"><div class=\"sk-text-repr-fallback\"><pre>RandomForestClassifier(max_depth=5, n_estimators=50, random_state=110)</pre><b>In a Jupyter environment, please rerun this cell to show the HTML representation or trust the notebook. <br />On GitHub, the HTML representation is unable to render, please try loading this page with nbviewer.org.</b></div><div class=\"sk-container\" hidden><div class=\"sk-item\"><div class=\"sk-estimator sk-toggleable\"><input class=\"sk-toggleable__control sk-hidden--visually\" id=\"sk-estimator-id-1\" type=\"checkbox\" checked><label for=\"sk-estimator-id-1\" class=\"sk-toggleable__label sk-toggleable__label-arrow\">RandomForestClassifier</label><div class=\"sk-toggleable__content\"><pre>RandomForestClassifier(max_depth=5, n_estimators=50, random_state=110)</pre></div></div></div></div></div>"
            ]
          },
          "metadata": {},
          "execution_count": 10
        }
      ],
      "source": [
        "model = RandomForestClassifier(n_estimators=50,max_depth=5,random_state=110)\n",
        "model.fit(X_train_ingredients,Y_train)"
      ]
    },
    {
      "cell_type": "code",
      "source": [
        "predictions = model.predict(X_train_ingredients)\n",
        "predictions_t = model.predict(X_test_ingredients)"
      ],
      "metadata": {
        "id": "1axAurY-9ac_"
      },
      "execution_count": 11,
      "outputs": []
    },
    {
      "cell_type": "code",
      "source": [
        "ytp = predictions\n",
        "ysp = predictions_t\n",
        "\n",
        "train_accuracy = np.mean(ytp==Y_train)\n",
        "test_accuracy  = np.mean(ysp==Y_test)\n",
        "\n",
        "print('Training Accuracy:\\t',train_accuracy)\n",
        "print('Test  Accuracy:\\t',test_accuracy)"
      ],
      "metadata": {
        "colab": {
          "base_uri": "https://localhost:8080/"
        },
        "id": "ImiGvihD-cxz",
        "outputId": "6462d04d-cb19-40bd-d3fe-88bd2aa86961"
      },
      "execution_count": 12,
      "outputs": [
        {
          "output_type": "stream",
          "name": "stdout",
          "text": [
            "Training Accuracy:\t 0.7134065934065934\n",
            "Test  Accuracy:\t 0.638974358974359\n"
          ]
        }
      ]
    },
    {
      "cell_type": "code",
      "source": [
        "import seaborn as sns\n",
        "def showConfMat(CM, labels=['Not_Healthy', 'Healthy']):\n",
        "  plt.matshow(CM, cmap='Blues')\n",
        "  for i in range(CM.shape[0]):\n",
        "      for j in range(CM.shape[1]):\n",
        "          plt.text(j, i, CM[i, j].round(2), ha='center')\n",
        "\n",
        "  plt.xticks(range(len(labels)), labels)\n",
        "  plt.yticks(range(len(labels)), labels)\n",
        "  plt.show()"
      ],
      "metadata": {
        "id": "XjhzRwRbU3yL"
      },
      "execution_count": 13,
      "outputs": []
    },
    {
      "cell_type": "code",
      "source": [
        "from sklearn.metrics import confusion_matrix,classification_report\n",
        "conf_matrix = confusion_matrix(Y_train, ytp)\n",
        "showConfMat(conf_matrix)"
      ],
      "metadata": {
        "colab": {
          "base_uri": "https://localhost:8080/",
          "height": 437
        },
        "id": "fIgryntT4pfN",
        "outputId": "6bc3ecc3-b826-4ce4-f77c-ef1b92825620"
      },
      "execution_count": 14,
      "outputs": [
        {
          "output_type": "display_data",
          "data": {
            "text/plain": [
              "<Figure size 480x480 with 1 Axes>"
            ],
            "image/png": "[encoded data removed]"
          },
          "metadata": {}
        }
      ]
    },
    {
      "cell_type": "code",
      "source": [
        "print(classification_report(Y_train,ytp,labels = ['0','1']))\n",
        "print(classification_report(Y_test,ysp,labels = ['0','1']))"
      ],
      "metadata": {
        "colab": {
          "base_uri": "https://localhost:8080/"
        },
        "id": "SFluRk7Y7qR_",
        "outputId": "2a8f21b9-a6ab-4dcc-8432-02df315b96eb"
      },
      "execution_count": 15,
      "outputs": [
        {
          "output_type": "stream",
          "name": "stdout",
          "text": [
            "              precision    recall  f1-score   support\n",
            "\n",
            "           0       0.75      0.48      0.58       957\n",
            "           1       0.70      0.89      0.78      1318\n",
            "\n",
            "   micro avg       0.71      0.71      0.71      2275\n",
            "   macro avg       0.73      0.68      0.68      2275\n",
            "weighted avg       0.72      0.71      0.70      2275\n",
            "\n",
            "              precision    recall  f1-score   support\n",
            "\n",
            "           0       0.62      0.42      0.50       418\n",
            "           1       0.65      0.81      0.72       557\n",
            "\n",
            "   micro avg       0.64      0.64      0.64       975\n",
            "   macro avg       0.63      0.61      0.61       975\n",
            "weighted avg       0.63      0.64      0.62       975\n",
            "\n"
          ]
        },
        {
          "output_type": "stream",
          "name": "stderr",
          "text": [
            "/usr/local/lib/python3.10/dist-packages/numpy/lib/arraysetops.py:608: FutureWarning: elementwise comparison failed; returning scalar instead, but in the future will perform elementwise comparison\n",
            "/usr/local/lib/python3.10/dist-packages/numpy/lib/arraysetops.py:608: FutureWarning: elementwise comparison failed; returning scalar instead, but in the future will perform elementwise comparison\n",
            "/usr/local/lib/python3.10/dist-packages/numpy/lib/arraysetops.py:608: FutureWarning: elementwise comparison failed; returning scalar instead, but in the future will perform elementwise comparison\n",
            "/usr/local/lib/python3.10/dist-packages/numpy/lib/arraysetops.py:608: FutureWarning: elementwise comparison failed; returning scalar instead, but in the future will perform elementwise comparison\n",
            "/usr/local/lib/python3.10/dist-packages/numpy/lib/arraysetops.py:608: FutureWarning: elementwise comparison failed; returning scalar instead, but in the future will perform elementwise comparison\n",
            "/usr/local/lib/python3.10/dist-packages/numpy/lib/arraysetops.py:608: FutureWarning: elementwise comparison failed; returning scalar instead, but in the future will perform elementwise comparison\n",
            "/usr/local/lib/python3.10/dist-packages/numpy/lib/arraysetops.py:608: FutureWarning: elementwise comparison failed; returning scalar instead, but in the future will perform elementwise comparison\n",
            "/usr/local/lib/python3.10/dist-packages/numpy/lib/arraysetops.py:608: FutureWarning: elementwise comparison failed; returning scalar instead, but in the future will perform elementwise comparison\n"
          ]
        }
      ]
    },
    {
      "cell_type": "code",
      "source": [
        "from sklearn.metrics import confusion_matrix,classification_report\n",
        "conf_matrix = confusion_matrix(Y_test, ysp)\n",
        "showConfMat(conf_matrix)"
      ],
      "metadata": {
        "colab": {
          "base_uri": "https://localhost:8080/",
          "height": 437
        },
        "id": "Mqc3PfpskLZw",
        "outputId": "813b7c81-b725-4d5d-d67e-9e556e9b31d4"
      },
      "execution_count": 16,
      "outputs": [
        {
          "output_type": "display_data",
          "data": {
            "text/plain": [
              "<Figure size 480x480 with 1 Axes>"
            ],
            "image/png": "[encoded data removed]"
          },
          "metadata": {}
        }
      ]
    },
    {
      "cell_type": "markdown",
      "metadata": {
        "id": "fSrJCR_cekPO"
      },
      "source": [
        "# 9 Conclusions\n",
        "\n",
        "From the above results we can conclude that:-\n",
        "\n",
        "1.The model perform reasonably well, with notable strengths in predicting healthy dishes.\n",
        "2.Class imbalance may impact the performance, as indicated by differences in precision and recall for the two classes.\n",
        "\n",
        "#Suggestions\n",
        "\n",
        "1. Further optimization and fine-tuning of the models could potentially enhance their predictive capabilities.\n",
        "2.Interpretation should consider the specific context and importance of precision and recall based on the application."
      ]
    }
  ],
  "metadata": {
    "colab": {
      "provenance": [],
      "collapsed_sections": [
        "ZaGn4ICrfqXZ"
      ]
    },
    "kernelspec": {
      "display_name": "Python 3",
      "name": "python3"
    },
    "language_info": {
      "name": "python"
    }
  },
  "nbformat": 4,
  "nbformat_minor": 0
}